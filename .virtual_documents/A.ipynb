





a , b = map( int , input().split());

print( a, b);

a = a ^ b ;
b = b ^ a;
a = a ^ b;

print( a, b);





n = int(input());

if(n & ( n - 1)):print(f"{n} khong phai luy thua cua 2");
else: print(f"{n} la luy thua cua 2");





from math import *;

m , n = map(float ,input().split());
print( floor( m / n));





from math import *;

m , n = map( float ,input().split());
print(ceil( m / n));





n = int(input());

if (n&1): print("Odd");
else: print("Even");






a ,b  = map(int ,input().split());

if( a < 0 and b < 0) :print("Yes");
else :print("No")





a ,b  = map(int ,input().split());

if ( len(a) > len(b)): print("True");
else :print("False");






from math import *;

def solve( a , b , c):
    return ( a + b > c and abs( a -b) < c);

a , b  , c = map(int ,input().split());

if( solve(a ,b , c) and solve( a ,c , b) and solve( b, c , a)):print("Yes");
else : print("No");
    





arr = list( map ( int ,input().split()));

print( max(arr));






from math import *;

def solve( a , b , c):
    return ( a + b > c and abs( a -b) < c);

a , b  , c = map(int ,input().split());

if( solve(a ,b , c) and solve( a ,c , b) and solve( b, c , a)):
    if( a == b and b == c): print("Tam giac deu");
    elif( a == b or b == c or a == c): print("Tam giac can");
    else: print("Tam giac thuong");
else :
    print("Khong tao thanh tam giac");
    
    





year = int(input());

if( not( year % 400)) : print("Yes");
else:
    if(not(year % 4) and (year %100)): print("Yes");
    else : print("No");





a , b = map( int , input().split());

if( a == 0 and b == 0):
    print("Vo so nghiem")
else:
    if( a == 0 and b != 0): print("Vo nghiem")
    elif( a != 0 and b == 0) : print(0);
    else: print(f"{-b / a:.2f}"); 





score = int(input());

if(score >= 8): print("Gioi");
elif(score >= 6.5): print("Kha");
elif(score >= 5.0): print("Trung bình");
else:print("Yeu");






n = float(input());





