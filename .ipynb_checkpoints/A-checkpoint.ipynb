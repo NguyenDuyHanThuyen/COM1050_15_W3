{
 "cells": [
  {
   "cell_type": "markdown",
   "id": "cba36e9c-67dc-4b85-96de-1ee2bd3b1cf7",
   "metadata": {},
   "source": [
    "W3A2"
   ]
  },
  {
   "cell_type": "code",
   "execution_count": null,
   "id": "38403520-33af-43b9-b0ad-51aa93edb541",
   "metadata": {},
   "outputs": [],
   "source": [
    "a , b = map( int , input().split());\n",
    "\n",
    "print( a, b);\n",
    "\n",
    "a = a ^ b ;\n",
    "b = b ^ a;\n",
    "a = a ^ b;\n",
    "\n",
    "print( a, b);"
   ]
  },
  {
   "cell_type": "markdown",
   "id": "2bca9114-eac6-474e-b271-258127101f13",
   "metadata": {},
   "source": [
    "W3A3"
   ]
  },
  {
   "cell_type": "code",
   "execution_count": null,
   "id": "f36060c3-c815-4dea-9e84-19a9e45fed67",
   "metadata": {},
   "outputs": [],
   "source": [
    "n = int(input());\n",
    "\n",
    "if(n & ( n - 1)):print(f\"{n} khong phai luy thua cua 2\");\n",
    "else: print(f\"{n} la luy thua cua 2\");"
   ]
  },
  {
   "cell_type": "markdown",
   "id": "ae13597d-5ad3-4221-a503-11f74cbb4ec0",
   "metadata": {},
   "source": [
    "W3A4"
   ]
  },
  {
   "cell_type": "code",
   "execution_count": null,
   "id": "acf49ba3-0163-45cb-a735-def7e6fed543",
   "metadata": {},
   "outputs": [],
   "source": [
    "from math import *;\n",
    "\n",
    "m , n = map(float ,input().split());\n",
    "print( floor( m / n));"
   ]
  },
  {
   "cell_type": "markdown",
   "id": "1fd1daf0-f453-492b-99a6-c6f20e2cf1ab",
   "metadata": {},
   "source": [
    "W3A5"
   ]
  },
  {
   "cell_type": "code",
   "execution_count": null,
   "id": "455158f9-efcf-454c-80ce-948abad4ef2c",
   "metadata": {},
   "outputs": [],
   "source": [
    "from math import *;\n",
    "\n",
    "m , n = map( float ,input().split());\n",
    "print(ceil( m / n));"
   ]
  },
  {
   "cell_type": "markdown",
   "id": "671ce0d9-ae0d-4cfe-ac0c-e471ebe53d22",
   "metadata": {},
   "source": [
    "W3A6"
   ]
  },
  {
   "cell_type": "code",
   "execution_count": null,
   "id": "0e9b56af-f881-403b-83ef-82441af0e5e5",
   "metadata": {},
   "outputs": [],
   "source": [
    "n = int(input());\n",
    "\n",
    "if (n&1): print(\"Odd\");\n",
    "else: print(\"Even\");\n"
   ]
  },
  {
   "cell_type": "markdown",
   "id": "c65b4c32-6b6a-4680-96ce-08cd1295b6d6",
   "metadata": {},
   "source": [
    "W3A7"
   ]
  },
  {
   "cell_type": "code",
   "execution_count": null,
   "id": "bb8ddf00-50ac-4d09-abd7-701a70753651",
   "metadata": {},
   "outputs": [],
   "source": [
    "a ,b  = map(int ,input().split());\n",
    "\n",
    "if( a < 0 and b < 0) :print(\"Yes\");\n",
    "else :print(\"No\")"
   ]
  },
  {
   "cell_type": "markdown",
   "id": "14bd1879-a561-4b76-b3dd-f2392fe28e14",
   "metadata": {},
   "source": [
    "W3A8"
   ]
  },
  {
   "cell_type": "code",
   "execution_count": null,
   "id": "cbcadb2e-ae90-450f-9d85-90032cc00e18",
   "metadata": {},
   "outputs": [],
   "source": [
    "a ,b  = map(int ,input().split());\n",
    "\n",
    "if ( len(a) > len(b)): print(\"True\");\n",
    "else :print(\"False\");"
   ]
  },
  {
   "cell_type": "markdown",
   "id": "9124cb37-ec31-411a-bd4c-5eba04ce0b2d",
   "metadata": {},
   "source": [
    "W3A9"
   ]
  },
  {
   "cell_type": "code",
   "execution_count": null,
   "id": "9b95c6b4-4137-4c44-b401-3b4b02153929",
   "metadata": {},
   "outputs": [],
   "source": [
    "\n",
    "from math import *;\n",
    "\n",
    "def solve( a , b , c):\n",
    "    return ( a + b > c and abs( a -b) < c);\n",
    "\n",
    "a , b  , c = map(int ,input().split());\n",
    "\n",
    "if( solve(a ,b , c) and solve( a ,c , b) and solve( b, c , a)):print(\"Yes\");\n",
    "else : print(\"No\");\n",
    "    "
   ]
  },
  {
   "cell_type": "markdown",
   "id": "b97feab2-7c25-4183-a837-3237335c5d17",
   "metadata": {},
   "source": [
    "W3A10"
   ]
  },
  {
   "cell_type": "code",
   "execution_count": null,
   "id": "43a600c5-ec7f-4c4b-ba7b-cda46151412a",
   "metadata": {},
   "outputs": [],
   "source": [
    "arr = list( map ( int ,input().split()));\n",
    "\n",
    "print( max(arr));"
   ]
  },
  {
   "cell_type": "markdown",
   "id": "34512968-866e-42c1-a732-eaabad1bb6e2",
   "metadata": {},
   "source": [
    "W3A11"
   ]
  },
  {
   "cell_type": "code",
   "execution_count": null,
   "id": "8b7ac58f-51dc-4628-a848-4cf8b58ca888",
   "metadata": {},
   "outputs": [],
   "source": [
    "\n",
    "from math import *;\n",
    "\n",
    "def solve( a , b , c):\n",
    "    return ( a + b > c and abs( a -b) < c);\n",
    "\n",
    "a , b  , c = map(int ,input().split());\n",
    "\n",
    "if( solve(a ,b , c) and solve( a ,c , b) and solve( b, c , a)):\n",
    "    if( a == b and b == c): print(\"Tam giac deu\");\n",
    "    elif( a == b or b == c or a == c): print(\"Tam giac can\");\n",
    "    else: print(\"Tam giac thuong\");\n",
    "else :\n",
    "    print(\"Khong tao thanh tam giac\");\n",
    "    \n",
    "    "
   ]
  },
  {
   "cell_type": "markdown",
   "id": "a6fdd32d-50a8-4f92-a785-cb469cc5588a",
   "metadata": {},
   "source": [
    "W3A12"
   ]
  },
  {
   "cell_type": "code",
   "execution_count": null,
   "id": "bf0a1b7f-f1d3-46de-ba38-3b4ab6a30928",
   "metadata": {},
   "outputs": [],
   "source": [
    "year = int(input());\n",
    "\n",
    "if( not( year % 400)) : print(\"Yes\");\n",
    "else:\n",
    "    if(not(year % 4) and (year %100)): print(\"Yes\");\n",
    "    else : print(\"No\");"
   ]
  },
  {
   "cell_type": "markdown",
   "id": "6c25a234-eab1-4a5a-93c7-dfd1524ed5c4",
   "metadata": {},
   "source": [
    "W3A14"
   ]
  },
  {
   "cell_type": "code",
   "execution_count": null,
   "id": "d15841cd-d989-4a33-8d18-0658dc4b507c",
   "metadata": {},
   "outputs": [],
   "source": []
  },
  {
   "cell_type": "code",
   "execution_count": null,
   "id": "5fb56cbd-b36a-4d8c-ae4d-c4d91d29ec0c",
   "metadata": {},
   "outputs": [],
   "source": []
  }
 ],
 "metadata": {
  "kernelspec": {
   "display_name": "Python [conda env:base] *",
   "language": "python",
   "name": "conda-base-py"
  },
  "language_info": {
   "codemirror_mode": {
    "name": "ipython",
    "version": 3
   },
   "file_extension": ".py",
   "mimetype": "text/x-python",
   "name": "python",
   "nbconvert_exporter": "python",
   "pygments_lexer": "ipython3",
   "version": "3.12.7"
  }
 },
 "nbformat": 4,
 "nbformat_minor": 5
}
